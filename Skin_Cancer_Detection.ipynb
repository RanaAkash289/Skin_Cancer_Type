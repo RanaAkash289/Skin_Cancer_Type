{
  "cells": [
    {
      "cell_type": "markdown",
      "metadata": {
        "colab_type": "text",
        "id": "view-in-github"
      },
      "source": [
        "<a href=\"https://colab.research.google.com/github/charanhu/Skin_Cancer_Detection_MNIST/blob/main/Skin_Cancer_Detection.ipynb\" target=\"_parent\"><img src=\"https://colab.research.google.com/assets/colab-badge.svg\" alt=\"Open In Colab\"/></a>"
      ]
    },
    {
      "cell_type": "markdown",
      "metadata": {
        "id": "CITglgXP2wiK"
      },
      "source": [
        "# Step 1: Importing Essential Libraries"
      ]
    },
    {
      "cell_type": "code",
      "execution_count": 1,
      "metadata": {
        "id": "kES_rD67rrG6"
      },
      "outputs": [],
      "source": [
        "import pandas as pd\n",
        "import numpy as np\n",
        "import warnings \n",
        "warnings.filterwarnings('ignore')"
      ]
    },
    {
      "cell_type": "markdown",
      "metadata": {
        "id": "Xp6IRzqhu1Q9"
      },
      "source": [
        "# Step 2: Loading data and Making labels"
      ]
    },
    {
      "cell_type": "code",
      "execution_count": 4,
      "metadata": {
        "id": "g7tDvsg5sNZK"
      },
      "outputs": [],
      "source": [
        "#Dataset used: https://www.kaggle.com/kmader/skin-cancer-mnist-ham10000\n",
        "\n",
        "path='../Skin_Cancer_Detection_byAR(Akash)ST(Spandan)/archive/hmnist_28_28_RGB.csv'"
      ]
    },
    {
      "cell_type": "code",
      "execution_count": 5,
      "metadata": {
        "id": "TSlPUvq-sfo4"
      },
      "outputs": [],
      "source": [
        "df=pd.read_csv(path)"
      ]
    },
    {
      "cell_type": "code",
      "execution_count": 6,
      "metadata": {
        "colab": {
          "base_uri": "https://localhost:8080/",
          "height": 299
        },
        "id": "-XZB67tXslAf",
        "outputId": "bf1e7171-0aea-487a-8835-d052283ea720"
      },
      "outputs": [
        {
          "data": {
            "text/html": [
              "<div>\n",
              "<style scoped>\n",
              "    .dataframe tbody tr th:only-of-type {\n",
              "        vertical-align: middle;\n",
              "    }\n",
              "\n",
              "    .dataframe tbody tr th {\n",
              "        vertical-align: top;\n",
              "    }\n",
              "\n",
              "    .dataframe thead th {\n",
              "        text-align: right;\n",
              "    }\n",
              "</style>\n",
              "<table border=\"1\" class=\"dataframe\">\n",
              "  <thead>\n",
              "    <tr style=\"text-align: right;\">\n",
              "      <th></th>\n",
              "      <th>pixel0000</th>\n",
              "      <th>pixel0001</th>\n",
              "      <th>pixel0002</th>\n",
              "      <th>pixel0003</th>\n",
              "      <th>pixel0004</th>\n",
              "      <th>pixel0005</th>\n",
              "      <th>pixel0006</th>\n",
              "      <th>pixel0007</th>\n",
              "      <th>pixel0008</th>\n",
              "      <th>pixel0009</th>\n",
              "      <th>...</th>\n",
              "      <th>pixel2343</th>\n",
              "      <th>pixel2344</th>\n",
              "      <th>pixel2345</th>\n",
              "      <th>pixel2346</th>\n",
              "      <th>pixel2347</th>\n",
              "      <th>pixel2348</th>\n",
              "      <th>pixel2349</th>\n",
              "      <th>pixel2350</th>\n",
              "      <th>pixel2351</th>\n",
              "      <th>label</th>\n",
              "    </tr>\n",
              "  </thead>\n",
              "  <tbody>\n",
              "    <tr>\n",
              "      <th>10010</th>\n",
              "      <td>183</td>\n",
              "      <td>165</td>\n",
              "      <td>181</td>\n",
              "      <td>182</td>\n",
              "      <td>165</td>\n",
              "      <td>180</td>\n",
              "      <td>184</td>\n",
              "      <td>166</td>\n",
              "      <td>182</td>\n",
              "      <td>188</td>\n",
              "      <td>...</td>\n",
              "      <td>208</td>\n",
              "      <td>185</td>\n",
              "      <td>187</td>\n",
              "      <td>208</td>\n",
              "      <td>186</td>\n",
              "      <td>186</td>\n",
              "      <td>206</td>\n",
              "      <td>187</td>\n",
              "      <td>189</td>\n",
              "      <td>0</td>\n",
              "    </tr>\n",
              "    <tr>\n",
              "      <th>10011</th>\n",
              "      <td>2</td>\n",
              "      <td>3</td>\n",
              "      <td>1</td>\n",
              "      <td>38</td>\n",
              "      <td>33</td>\n",
              "      <td>32</td>\n",
              "      <td>121</td>\n",
              "      <td>104</td>\n",
              "      <td>103</td>\n",
              "      <td>132</td>\n",
              "      <td>...</td>\n",
              "      <td>96</td>\n",
              "      <td>79</td>\n",
              "      <td>76</td>\n",
              "      <td>24</td>\n",
              "      <td>23</td>\n",
              "      <td>21</td>\n",
              "      <td>3</td>\n",
              "      <td>4</td>\n",
              "      <td>1</td>\n",
              "      <td>0</td>\n",
              "    </tr>\n",
              "    <tr>\n",
              "      <th>10012</th>\n",
              "      <td>132</td>\n",
              "      <td>118</td>\n",
              "      <td>118</td>\n",
              "      <td>167</td>\n",
              "      <td>149</td>\n",
              "      <td>149</td>\n",
              "      <td>175</td>\n",
              "      <td>156</td>\n",
              "      <td>160</td>\n",
              "      <td>184</td>\n",
              "      <td>...</td>\n",
              "      <td>204</td>\n",
              "      <td>181</td>\n",
              "      <td>178</td>\n",
              "      <td>181</td>\n",
              "      <td>159</td>\n",
              "      <td>153</td>\n",
              "      <td>172</td>\n",
              "      <td>151</td>\n",
              "      <td>145</td>\n",
              "      <td>0</td>\n",
              "    </tr>\n",
              "    <tr>\n",
              "      <th>10013</th>\n",
              "      <td>160</td>\n",
              "      <td>124</td>\n",
              "      <td>146</td>\n",
              "      <td>164</td>\n",
              "      <td>131</td>\n",
              "      <td>152</td>\n",
              "      <td>167</td>\n",
              "      <td>127</td>\n",
              "      <td>146</td>\n",
              "      <td>169</td>\n",
              "      <td>...</td>\n",
              "      <td>185</td>\n",
              "      <td>162</td>\n",
              "      <td>167</td>\n",
              "      <td>184</td>\n",
              "      <td>157</td>\n",
              "      <td>166</td>\n",
              "      <td>185</td>\n",
              "      <td>162</td>\n",
              "      <td>172</td>\n",
              "      <td>0</td>\n",
              "    </tr>\n",
              "    <tr>\n",
              "      <th>10014</th>\n",
              "      <td>175</td>\n",
              "      <td>142</td>\n",
              "      <td>121</td>\n",
              "      <td>181</td>\n",
              "      <td>150</td>\n",
              "      <td>134</td>\n",
              "      <td>181</td>\n",
              "      <td>150</td>\n",
              "      <td>133</td>\n",
              "      <td>178</td>\n",
              "      <td>...</td>\n",
              "      <td>159</td>\n",
              "      <td>79</td>\n",
              "      <td>82</td>\n",
              "      <td>174</td>\n",
              "      <td>137</td>\n",
              "      <td>125</td>\n",
              "      <td>175</td>\n",
              "      <td>139</td>\n",
              "      <td>126</td>\n",
              "      <td>6</td>\n",
              "    </tr>\n",
              "  </tbody>\n",
              "</table>\n",
              "<p>5 rows × 2353 columns</p>\n",
              "</div>"
            ],
            "text/plain": [
              "       pixel0000  pixel0001  pixel0002  pixel0003  pixel0004  pixel0005  \\\n",
              "10010        183        165        181        182        165        180   \n",
              "10011          2          3          1         38         33         32   \n",
              "10012        132        118        118        167        149        149   \n",
              "10013        160        124        146        164        131        152   \n",
              "10014        175        142        121        181        150        134   \n",
              "\n",
              "       pixel0006  pixel0007  pixel0008  pixel0009  ...  pixel2343  pixel2344  \\\n",
              "10010        184        166        182        188  ...        208        185   \n",
              "10011        121        104        103        132  ...         96         79   \n",
              "10012        175        156        160        184  ...        204        181   \n",
              "10013        167        127        146        169  ...        185        162   \n",
              "10014        181        150        133        178  ...        159         79   \n",
              "\n",
              "       pixel2345  pixel2346  pixel2347  pixel2348  pixel2349  pixel2350  \\\n",
              "10010        187        208        186        186        206        187   \n",
              "10011         76         24         23         21          3          4   \n",
              "10012        178        181        159        153        172        151   \n",
              "10013        167        184        157        166        185        162   \n",
              "10014         82        174        137        125        175        139   \n",
              "\n",
              "       pixel2351  label  \n",
              "10010        189      0  \n",
              "10011          1      0  \n",
              "10012        145      0  \n",
              "10013        172      0  \n",
              "10014        126      6  \n",
              "\n",
              "[5 rows x 2353 columns]"
            ]
          },
          "execution_count": 6,
          "metadata": {},
          "output_type": "execute_result"
        }
      ],
      "source": [
        "df.tail()"
      ]
    },
    {
      "cell_type": "markdown",
      "metadata": {
        "id": "Y4Cw9UFa1rsr"
      },
      "source": [
        "# Step 3: Train Test Split"
      ]
    },
    {
      "cell_type": "code",
      "execution_count": 7,
      "metadata": {
        "id": "iILXCW2hsoDl"
      },
      "outputs": [],
      "source": [
        "fractions=np.array([0.8,0.2])\n",
        "\n",
        "df=df.sample(frac=1)\n",
        "\n",
        "train_set, test_set = np.array_split(df, (fractions[:-1].cumsum() * len(df)).astype(int))"
      ]
    },
    {
      "cell_type": "code",
      "execution_count": 8,
      "metadata": {
        "colab": {
          "base_uri": "https://localhost:8080/"
        },
        "id": "As38rXlQs1PY",
        "outputId": "2fea275b-f97f-413f-90ca-fbe82daa4972"
      },
      "outputs": [
        {
          "name": "stdout",
          "output_type": "stream",
          "text": [
            "8012\n"
          ]
        }
      ],
      "source": [
        "print(len(train_set))"
      ]
    },
    {
      "cell_type": "code",
      "execution_count": 9,
      "metadata": {
        "colab": {
          "base_uri": "https://localhost:8080/"
        },
        "id": "VY83gf_ss-x1",
        "outputId": "95ac1324-07f0-466f-d01d-e11e688a675b"
      },
      "outputs": [
        {
          "name": "stdout",
          "output_type": "stream",
          "text": [
            "2003\n"
          ]
        }
      ],
      "source": [
        "print(len(test_set))"
      ]
    },
    {
      "cell_type": "code",
      "execution_count": 10,
      "metadata": {
        "colab": {
          "base_uri": "https://localhost:8080/"
        },
        "id": "3w2H4w0_ubRT",
        "outputId": "66c0a7ae-3ab5-4512-8991-1641377bbcc6"
      },
      "outputs": [
        {
          "data": {
            "text/plain": [
              "array([4, 2, 0, 6, 1, 5, 3], dtype=int64)"
            ]
          },
          "execution_count": 10,
          "metadata": {},
          "output_type": "execute_result"
        }
      ],
      "source": [
        "df.label.unique()"
      ]
    },
    {
      "cell_type": "code",
      "execution_count": 11,
      "metadata": {
        "id": "lHk4p-sdugSa"
      },
      "outputs": [],
      "source": [
        "# reference: https://www.kaggle.com/kmader/skin-cancer-mnist-ham10000/discussion/183083\n",
        "classes={\n",
        "    0:('akiec', 'actinic keratoses and intraepithelial carcinomae'),\n",
        "         \n",
        "    1:('bcc' , 'basal cell carcinoma'),\n",
        "         \n",
        "    2:('bkl', 'benign keratosis-like lesions'),\n",
        "         \n",
        "    3:('df', 'dermatofibroma'),\n",
        "         \n",
        "    4:('nv', ' melanocytic nevi'),\n",
        "         \n",
        "    5:('vasc', ' pyogenic granulomas and hemorrhage'),\n",
        "         \n",
        "    6:('mel', 'melanoma'),\n",
        "}"
      ]
    },
    {
      "cell_type": "code",
      "execution_count": 12,
      "metadata": {
        "id": "2W5sBRkZtBr9"
      },
      "outputs": [],
      "source": [
        "y_train=train_set['label']\n",
        "\n",
        "x_train=train_set.drop(columns=['label'])\n",
        "\n",
        "y_test=test_set['label']\n",
        "\n",
        "x_test=test_set.drop(columns=['label'])\n",
        "\n",
        "columns=list(x_train)"
      ]
    },
    {
      "cell_type": "code",
      "execution_count": 13,
      "metadata": {
        "colab": {
          "base_uri": "https://localhost:8080/"
        },
        "id": "JzQneFTdtWO1",
        "outputId": "b8016af4-5370-474f-8991-208944e47404"
      },
      "outputs": [
        {
          "name": "stdout",
          "output_type": "stream",
          "text": [
            "cpu\n"
          ]
        }
      ],
      "source": [
        "import torch\n",
        "\n",
        "device = torch.device(\"cuda:0\" if torch.cuda.is_available() else \"cpu\")\n",
        "\n",
        "print(device)"
      ]
    },
    {
      "cell_type": "markdown",
      "metadata": {
        "id": "5i_16okiu1Rf"
      },
      "source": [
        "# Step 4: Exploratory Data Analysis and Preprocessing"
      ]
    },
    {
      "cell_type": "code",
      "execution_count": 14,
      "metadata": {
        "colab": {
          "base_uri": "https://localhost:8080/",
          "height": 296
        },
        "id": "Tv4196QOhtmI",
        "outputId": "17c53836-3a24-4662-b652-48f82890a0f2"
      },
      "outputs": [
        {
          "data": {
            "text/plain": [
              "<Axes: ylabel='count'>"
            ]
          },
          "execution_count": 14,
          "metadata": {},
          "output_type": "execute_result"
        },
        {
          "data": {
            "image/png": "[encoded data removed]",
            "text/plain": [
              "<Figure size 640x480 with 1 Axes>"
            ]
          },
          "metadata": {},
          "output_type": "display_data"
        }
      ],
      "source": [
        "import seaborn as sns\n",
        "\n",
        "sns.countplot(train_set['label'])"
      ]
    },
    {
      "cell_type": "code",
      "execution_count": 15,
      "metadata": {
        "id": "CKIlAJY9pwh1"
      },
      "outputs": [],
      "source": [
        "from imblearn.over_sampling import RandomOverSampler \n",
        "\n",
        "oversample = RandomOverSampler()\n",
        "\n",
        "x_train,y_train  = oversample.fit_resample(x_train,y_train)"
      ]
    },
    {
      "cell_type": "code",
      "execution_count": 16,
      "metadata": {
        "colab": {
          "base_uri": "https://localhost:8080/",
          "height": 296
        },
        "id": "tM_GikKFiJuK",
        "outputId": "15f6e0ce-f063-4d88-e257-d4de54f9e276"
      },
      "outputs": [
        {
          "data": {
            "text/plain": [
              "<Axes: ylabel='count'>"
            ]
          },
          "execution_count": 16,
          "metadata": {},
          "output_type": "execute_result"
        },
        {
          "data": {
            "image/png": "[encoded data removed]",
            "text/plain": [
              "<Figure size 640x480 with 1 Axes>"
            ]
          },
          "metadata": {},
          "output_type": "display_data"
        }
      ],
      "source": [
        "sns.countplot(y_train)"
      ]
    },
    {
      "cell_type": "code",
      "execution_count": 17,
      "metadata": {
        "colab": {
          "base_uri": "https://localhost:8080/",
          "height": 809
        },
        "id": "84ADzEUx5R9I",
        "outputId": "93d80c0d-cad7-4f5d-fecf-a8ea8706c8ee"
      },
      "outputs": [
        {
          "data": {
            "image/png": "[encoded data removed]",
            "text/plain": [
              "<Figure size 640x480 with 1 Axes>"
            ]
          },
          "metadata": {},
          "output_type": "display_data"
        },
        {
          "data": {
            "image/png": "[encoded data removed]",
            "text/plain": [
              "<Figure size 640x480 with 1 Axes>"
            ]
          },
          "metadata": {},
          "output_type": "display_data"
        },
        {
          "data": {
            "image/png": "[encoded data removed]",
            "text/plain": [
              "<Figure size 640x480 with 1 Axes>"
            ]
          },
          "metadata": {},
          "output_type": "display_data"
        }
      ],
      "source": [
        "import matplotlib.pyplot as plt\n",
        "import random\n",
        "\n",
        "num=random.randint(0,8000)\n",
        "x_train=np.array(x_train, dtype=np.uint8).reshape(-1,28,28,3)\n",
        "\n",
        "plt.imshow(x_train[num].reshape(28,28,3))\n",
        "plt.title(\"Random image from training data\")\n",
        "plt.show()\n",
        "num=random.randint(0,8000)\n",
        "plt.imshow(x_train[num].reshape(28,28,3))\n",
        "plt.title(\"Random image from training data\")\n",
        "plt.show()\n",
        "\n",
        "num=random.randint(0,8000)\n",
        "plt.imshow(x_train[num].reshape(28,28,3))\n",
        "plt.title(\"Random image from training data\")\n",
        "plt.show()"
      ]
    },
    {
      "cell_type": "markdown",
      "metadata": {
        "id": "MQlw_baKxPQw"
      },
      "source": [
        "# Step 5: Model Building (CNN)"
      ]
    },
    {
      "cell_type": "code",
      "execution_count": 18,
      "metadata": {
        "id": "obmDZia7Sxnn"
      },
      "outputs": [],
      "source": [
        "from tensorflow.keras.models import Sequential\n",
        "from tensorflow.keras.layers import Conv2D, Flatten, Dense, MaxPool2D\n",
        "import tensorflow as tf"
      ]
    },
    {
      "cell_type": "code",
      "execution_count": 19,
      "metadata": {
        "colab": {
          "base_uri": "https://localhost:8080/"
        },
        "id": "Vsll2hd2wzuS",
        "outputId": "add27fd4-5383-4f03-8dd4-f1f7d50478cc"
      },
      "outputs": [
        {
          "name": "stdout",
          "output_type": "stream",
          "text": [
            "CPU times: total: 0 ns\n",
            "Wall time: 0 ns\n",
            "Model: \"sequential\"\n",
            "_________________________________________________________________\n",
            " Layer (type)                Output Shape              Param #   \n",
            "=================================================================\n",
            " conv2d (Conv2D)             (None, 28, 28, 16)        448       \n",
            "                                                                 \n",
            " max_pooling2d (MaxPooling2  (None, 14, 14, 16)        0         \n",
            " D)                                                              \n",
            "                                                                 \n",
            " batch_normalization (Batch  (None, 14, 14, 16)        64        \n",
            " Normalization)                                                  \n",
            "                                                                 \n",
            " conv2d_1 (Conv2D)           (None, 12, 12, 32)        4640      \n",
            "                                                                 \n",
            " conv2d_2 (Conv2D)           (None, 10, 10, 64)        18496     \n",
            "                                                                 \n",
            " max_pooling2d_1 (MaxPoolin  (None, 5, 5, 64)          0         \n",
            " g2D)                                                            \n",
            "                                                                 \n",
            " batch_normalization_1 (Bat  (None, 5, 5, 64)          256       \n",
            " chNormalization)                                                \n",
            "                                                                 \n",
            " conv2d_3 (Conv2D)           (None, 3, 3, 128)         73856     \n",
            "                                                                 \n",
            " conv2d_4 (Conv2D)           (None, 1, 1, 256)         295168    \n",
            "                                                                 \n",
            " flatten (Flatten)           (None, 256)               0         \n",
            "                                                                 \n",
            " dropout (Dropout)           (None, 256)               0         \n",
            "                                                                 \n",
            " dense (Dense)               (None, 256)               65792     \n",
            "                                                                 \n",
            " batch_normalization_2 (Bat  (None, 256)               1024      \n",
            " chNormalization)                                                \n",
            "                                                                 \n",
            " dropout_1 (Dropout)         (None, 256)               0         \n",
            "                                                                 \n",
            " dense_1 (Dense)             (None, 128)               32896     \n",
            "                                                                 \n",
            " batch_normalization_3 (Bat  (None, 128)               512       \n",
            " chNormalization)                                                \n",
            "                                                                 \n",
            " dense_2 (Dense)             (None, 64)                8256      \n",
            "                                                                 \n",
            " batch_normalization_4 (Bat  (None, 64)                256       \n",
            " chNormalization)                                                \n",
            "                                                                 \n",
            " dropout_2 (Dropout)         (None, 64)                0         \n",
            "                                                                 \n",
            " dense_3 (Dense)             (None, 32)                2080      \n",
            "                                                                 \n",
            " batch_normalization_5 (Bat  (None, 32)                128       \n",
            " chNormalization)                                                \n",
            "                                                                 \n",
            " dense_4 (Dense)             (None, 7)                 231       \n",
            "                                                                 \n",
            "=================================================================\n",
            "Total params: 504103 (1.92 MB)\n",
            "Trainable params: 502983 (1.92 MB)\n",
            "Non-trainable params: 1120 (4.38 KB)\n",
            "_________________________________________________________________\n"
          ]
        }
      ],
      "source": [
        "#https://keras.io/api/models/sequential/\n",
        "#https://keras.io/api/layers/core_layers/dense/\n",
        "#https://keras.io/api/layers/merging_layers/add/\n",
        "#https://keras.io/api/layers/convolution_layers/convolution2d\n",
        "#https://keras.io/api/layers/convolution_layers/convolution2d\n",
        "#https://www.tensorflow.org/api_docs/python/tf/keras/layers/BatchNormalization\n",
        "\n",
        "\n",
        "%time \n",
        "\n",
        "model = Sequential()\n",
        "\n",
        "model.add(Conv2D(16, \n",
        "                 kernel_size = (3,3), \n",
        "                 input_shape = (28, 28, 3), \n",
        "                 activation = 'relu', \n",
        "                 padding = 'same'))\n",
        "\n",
        "model.add(MaxPool2D(pool_size = (2,2)))\n",
        "model.add(tf.keras.layers.BatchNormalization())\n",
        "\n",
        "model.add(Conv2D(32, \n",
        "                 kernel_size = (3,3), \n",
        "                 activation = 'relu'))\n",
        "\n",
        "model.add(Conv2D(64, \n",
        "                 kernel_size = (3,3), \n",
        "                 activation = 'relu'))\n",
        "\n",
        "model.add(MaxPool2D(pool_size = (2,2)))\n",
        "\n",
        "model.add(tf.keras.layers.BatchNormalization())\n",
        "\n",
        "model.add(Conv2D(128, \n",
        "                 kernel_size = (3,3), \n",
        "                 activation = 'relu'))\n",
        "\n",
        "model.add(Conv2D(256, \n",
        "                 kernel_size = (3,3), \n",
        "                 activation = 'relu'))\n",
        "\n",
        "model.add(Flatten())\n",
        "model.add(tf.keras.layers.Dropout(0.2))\n",
        "model.add(Dense(256,activation='relu'))\n",
        "\n",
        "model.add(tf.keras.layers.BatchNormalization())\n",
        "model.add(tf.keras.layers.Dropout(0.2))\n",
        "model.add(Dense(128,activation='relu'))\n",
        "\n",
        "model.add(tf.keras.layers.BatchNormalization())\n",
        "model.add(Dense(64,activation='relu'))\n",
        "\n",
        "model.add(tf.keras.layers.BatchNormalization())\n",
        "model.add(tf.keras.layers.Dropout(0.2))\n",
        "model.add(Dense(32,activation='relu'))\n",
        "\n",
        "model.add(tf.keras.layers.BatchNormalization())\n",
        "model.add(Dense(7,activation='softmax'))\n",
        "\n",
        "model.summary()"
      ]
    },
    {
      "cell_type": "markdown",
      "metadata": {
        "id": "KEKYqILDx4He"
      },
      "source": [
        "# Step 6: Setting Optimizer & Annealing\n",
        "\n",
        "---\n",
        "\n"
      ]
    },
    {
      "cell_type": "code",
      "execution_count": 20,
      "metadata": {
        "id": "g4B4-f7ehUIW"
      },
      "outputs": [],
      "source": [
        "#reference: https://www.kaggle.com/dhruv1234/ham10000-skin-disease-classification\n",
        "\n",
        "callback = tf.keras.callbacks.ModelCheckpoint(filepath='best_model.h5',\n",
        "                                              monitor='val_acc', \n",
        "                                              mode='max',\n",
        "                                              verbose=1,\n",
        "                                              save_best_only=True)"
      ]
    },
    {
      "cell_type": "code",
      "execution_count": 21,
      "metadata": {
        "colab": {
          "base_uri": "https://localhost:8080/"
        },
        "id": "wPmBHtmLxxR4",
        "outputId": "d01e165f-d76c-4e40-c963-359c09e5fb9d"
      },
      "outputs": [
        {
          "name": "stderr",
          "output_type": "stream",
          "text": [
            "WARNING:absl:`lr` is deprecated in Keras optimizer, please use `learning_rate` or use the legacy optimizer, e.g.,tf.keras.optimizers.legacy.Adam.\n"
          ]
        },
        {
          "name": "stdout",
          "output_type": "stream",
          "text": [
            "CPU times: total: 0 ns\n",
            "Wall time: 0 ns\n"
          ]
        }
      ],
      "source": [
        "%time \n",
        "\n",
        "optimizer=tf.keras.optimizers.Adam(lr=0.001)\n",
        "\n",
        "model.compile(loss = 'sparse_categorical_crossentropy',\n",
        "              optimizer =optimizer,\n",
        "              metrics = ['accuracy'])"
      ]
    },
    {
      "cell_type": "markdown",
      "metadata": {
        "id": "XXveDlVpu1Rv"
      },
      "source": [
        "# Step 7: Fitting the model"
      ]
    },
    {
      "cell_type": "code",
      "execution_count": 22,
      "metadata": {
        "colab": {
          "base_uri": "https://localhost:8080/"
        },
        "id": "1XgBEIh5hY63",
        "outputId": "d24b72b5-b707-4363-ccc7-bcc4cb3a83fd"
      },
      "outputs": [
        {
          "name": "stdout",
          "output_type": "stream",
          "text": [
            "Epoch 1/50\n",
            "235/235 [==============================] - ETA: 0s - loss: 1.2750 - accuracy: 0.5387WARNING:tensorflow:Can save best model only with val_acc available, skipping.\n"
          ]
        },
        {
          "name": "stderr",
          "output_type": "stream",
          "text": [
            "WARNING:tensorflow:Can save best model only with val_acc available, skipping.\n"
          ]
        },
        {
          "name": "stdout",
          "output_type": "stream",
          "text": [
            "235/235 [==============================] - 25s 87ms/step - loss: 1.2750 - accuracy: 0.5387 - val_loss: 2.1614 - val_accuracy: 0.1948\n",
            "Epoch 2/50\n",
            "235/235 [==============================] - ETA: 0s - loss: 0.4706 - accuracy: 0.8437WARNING:tensorflow:Can save best model only with val_acc available, skipping.\n"
          ]
        },
        {
          "name": "stderr",
          "output_type": "stream",
          "text": [
            "WARNING:tensorflow:Can save best model only with val_acc available, skipping.\n"
          ]
        },
        {
          "name": "stdout",
          "output_type": "stream",
          "text": [
            "235/235 [==============================] - 20s 87ms/step - loss: 0.4706 - accuracy: 0.8437 - val_loss: 1.7343 - val_accuracy: 0.3225\n",
            "Epoch 3/50\n",
            "235/235 [==============================] - ETA: 0s - loss: 0.2757 - accuracy: 0.9079WARNING:tensorflow:Can save best model only with val_acc available, skipping.\n"
          ]
        },
        {
          "name": "stderr",
          "output_type": "stream",
          "text": [
            "WARNING:tensorflow:Can save best model only with val_acc available, skipping.\n"
          ]
        },
        {
          "name": "stdout",
          "output_type": "stream",
          "text": [
            "235/235 [==============================] - 23s 97ms/step - loss: 0.2757 - accuracy: 0.9079 - val_loss: 1.3221 - val_accuracy: 0.4112\n",
            "Epoch 4/50\n",
            "235/235 [==============================] - ETA: 0s - loss: 0.2230 - accuracy: 0.9237WARNING:tensorflow:Can save best model only with val_acc available, skipping.\n"
          ]
        },
        {
          "name": "stderr",
          "output_type": "stream",
          "text": [
            "WARNING:tensorflow:Can save best model only with val_acc available, skipping.\n"
          ]
        },
        {
          "name": "stdout",
          "output_type": "stream",
          "text": [
            "235/235 [==============================] - 22s 93ms/step - loss: 0.2230 - accuracy: 0.9237 - val_loss: 0.8325 - val_accuracy: 0.5596\n",
            "Epoch 5/50\n",
            "235/235 [==============================] - ETA: 0s - loss: 0.1665 - accuracy: 0.9427WARNING:tensorflow:Can save best model only with val_acc available, skipping.\n"
          ]
        },
        {
          "name": "stderr",
          "output_type": "stream",
          "text": [
            "WARNING:tensorflow:Can save best model only with val_acc available, skipping.\n"
          ]
        },
        {
          "name": "stdout",
          "output_type": "stream",
          "text": [
            "235/235 [==============================] - 22s 94ms/step - loss: 0.1665 - accuracy: 0.9427 - val_loss: 1.1257 - val_accuracy: 0.4839\n",
            "Epoch 6/50\n",
            "235/235 [==============================] - ETA: 0s - loss: 0.1451 - accuracy: 0.9504WARNING:tensorflow:Can save best model only with val_acc available, skipping.\n"
          ]
        },
        {
          "name": "stderr",
          "output_type": "stream",
          "text": [
            "WARNING:tensorflow:Can save best model only with val_acc available, skipping.\n"
          ]
        },
        {
          "name": "stdout",
          "output_type": "stream",
          "text": [
            "235/235 [==============================] - 23s 96ms/step - loss: 0.1451 - accuracy: 0.9504 - val_loss: 0.8587 - val_accuracy: 0.6711\n",
            "Epoch 7/50\n",
            "235/235 [==============================] - ETA: 0s - loss: 0.1246 - accuracy: 0.9571WARNING:tensorflow:Can save best model only with val_acc available, skipping.\n"
          ]
        },
        {
          "name": "stderr",
          "output_type": "stream",
          "text": [
            "WARNING:tensorflow:Can save best model only with val_acc available, skipping.\n"
          ]
        },
        {
          "name": "stdout",
          "output_type": "stream",
          "text": [
            "235/235 [==============================] - 21s 91ms/step - loss: 0.1246 - accuracy: 0.9571 - val_loss: 0.8258 - val_accuracy: 0.6279\n",
            "Epoch 8/50\n",
            "235/235 [==============================] - ETA: 0s - loss: 0.1043 - accuracy: 0.9633WARNING:tensorflow:Can save best model only with val_acc available, skipping.\n"
          ]
        },
        {
          "name": "stderr",
          "output_type": "stream",
          "text": [
            "WARNING:tensorflow:Can save best model only with val_acc available, skipping.\n"
          ]
        },
        {
          "name": "stdout",
          "output_type": "stream",
          "text": [
            "235/235 [==============================] - 21s 90ms/step - loss: 0.1043 - accuracy: 0.9633 - val_loss: 0.9809 - val_accuracy: 0.5968\n",
            "Epoch 9/50\n",
            "235/235 [==============================] - ETA: 0s - loss: 0.1096 - accuracy: 0.9624WARNING:tensorflow:Can save best model only with val_acc available, skipping.\n"
          ]
        },
        {
          "name": "stderr",
          "output_type": "stream",
          "text": [
            "WARNING:tensorflow:Can save best model only with val_acc available, skipping.\n"
          ]
        },
        {
          "name": "stdout",
          "output_type": "stream",
          "text": [
            "235/235 [==============================] - 21s 90ms/step - loss: 0.1096 - accuracy: 0.9624 - val_loss: 1.5073 - val_accuracy: 0.4773\n",
            "Epoch 10/50\n",
            "235/235 [==============================] - ETA: 0s - loss: 0.0908 - accuracy: 0.9678WARNING:tensorflow:Can save best model only with val_acc available, skipping.\n"
          ]
        },
        {
          "name": "stderr",
          "output_type": "stream",
          "text": [
            "WARNING:tensorflow:Can save best model only with val_acc available, skipping.\n"
          ]
        },
        {
          "name": "stdout",
          "output_type": "stream",
          "text": [
            "235/235 [==============================] - 21s 88ms/step - loss: 0.0908 - accuracy: 0.9678 - val_loss: 0.6295 - val_accuracy: 0.7025\n",
            "Epoch 11/50\n",
            "235/235 [==============================] - ETA: 0s - loss: 0.0759 - accuracy: 0.9739WARNING:tensorflow:Can save best model only with val_acc available, skipping.\n"
          ]
        },
        {
          "name": "stderr",
          "output_type": "stream",
          "text": [
            "WARNING:tensorflow:Can save best model only with val_acc available, skipping.\n"
          ]
        },
        {
          "name": "stdout",
          "output_type": "stream",
          "text": [
            "235/235 [==============================] - 21s 88ms/step - loss: 0.0759 - accuracy: 0.9739 - val_loss: 0.5780 - val_accuracy: 0.7902\n",
            "Epoch 12/50\n",
            "235/235 [==============================] - ETA: 0s - loss: 0.0842 - accuracy: 0.9718WARNING:tensorflow:Can save best model only with val_acc available, skipping.\n"
          ]
        },
        {
          "name": "stderr",
          "output_type": "stream",
          "text": [
            "WARNING:tensorflow:Can save best model only with val_acc available, skipping.\n"
          ]
        },
        {
          "name": "stdout",
          "output_type": "stream",
          "text": [
            "235/235 [==============================] - 21s 89ms/step - loss: 0.0842 - accuracy: 0.9718 - val_loss: 0.4138 - val_accuracy: 0.8197\n",
            "Epoch 13/50\n",
            "235/235 [==============================] - ETA: 0s - loss: 0.0619 - accuracy: 0.9782WARNING:tensorflow:Can save best model only with val_acc available, skipping.\n"
          ]
        },
        {
          "name": "stderr",
          "output_type": "stream",
          "text": [
            "WARNING:tensorflow:Can save best model only with val_acc available, skipping.\n"
          ]
        },
        {
          "name": "stdout",
          "output_type": "stream",
          "text": [
            "235/235 [==============================] - 22s 94ms/step - loss: 0.0619 - accuracy: 0.9782 - val_loss: 0.7460 - val_accuracy: 0.6941\n",
            "Epoch 14/50\n",
            "235/235 [==============================] - ETA: 0s - loss: 0.0623 - accuracy: 0.9780WARNING:tensorflow:Can save best model only with val_acc available, skipping.\n"
          ]
        },
        {
          "name": "stderr",
          "output_type": "stream",
          "text": [
            "WARNING:tensorflow:Can save best model only with val_acc available, skipping.\n"
          ]
        },
        {
          "name": "stdout",
          "output_type": "stream",
          "text": [
            "235/235 [==============================] - 21s 90ms/step - loss: 0.0623 - accuracy: 0.9780 - val_loss: 0.1826 - val_accuracy: 0.9270\n",
            "Epoch 15/50\n",
            "235/235 [==============================] - ETA: 0s - loss: 0.0583 - accuracy: 0.9807WARNING:tensorflow:Can save best model only with val_acc available, skipping.\n"
          ]
        },
        {
          "name": "stderr",
          "output_type": "stream",
          "text": [
            "WARNING:tensorflow:Can save best model only with val_acc available, skipping.\n"
          ]
        },
        {
          "name": "stdout",
          "output_type": "stream",
          "text": [
            "235/235 [==============================] - 21s 89ms/step - loss: 0.0583 - accuracy: 0.9807 - val_loss: 0.2223 - val_accuracy: 0.9020\n",
            "Epoch 16/50\n",
            "235/235 [==============================] - ETA: 0s - loss: 0.0568 - accuracy: 0.9807WARNING:tensorflow:Can save best model only with val_acc available, skipping.\n"
          ]
        },
        {
          "name": "stderr",
          "output_type": "stream",
          "text": [
            "WARNING:tensorflow:Can save best model only with val_acc available, skipping.\n"
          ]
        },
        {
          "name": "stdout",
          "output_type": "stream",
          "text": [
            "235/235 [==============================] - 21s 89ms/step - loss: 0.0568 - accuracy: 0.9807 - val_loss: 0.7182 - val_accuracy: 0.7207\n",
            "Epoch 17/50\n",
            "235/235 [==============================] - ETA: 0s - loss: 0.0434 - accuracy: 0.9849WARNING:tensorflow:Can save best model only with val_acc available, skipping.\n"
          ]
        },
        {
          "name": "stderr",
          "output_type": "stream",
          "text": [
            "WARNING:tensorflow:Can save best model only with val_acc available, skipping.\n"
          ]
        },
        {
          "name": "stdout",
          "output_type": "stream",
          "text": [
            "235/235 [==============================] - 21s 89ms/step - loss: 0.0434 - accuracy: 0.9849 - val_loss: 1.2504 - val_accuracy: 0.6513\n",
            "Epoch 18/50\n",
            "235/235 [==============================] - ETA: 0s - loss: 0.0311 - accuracy: 0.9899WARNING:tensorflow:Can save best model only with val_acc available, skipping.\n"
          ]
        },
        {
          "name": "stderr",
          "output_type": "stream",
          "text": [
            "WARNING:tensorflow:Can save best model only with val_acc available, skipping.\n"
          ]
        },
        {
          "name": "stdout",
          "output_type": "stream",
          "text": [
            "235/235 [==============================] - 21s 87ms/step - loss: 0.0311 - accuracy: 0.9899 - val_loss: 0.0908 - val_accuracy: 0.9632\n",
            "Epoch 19/50\n",
            "235/235 [==============================] - ETA: 0s - loss: 0.0477 - accuracy: 0.9841WARNING:tensorflow:Can save best model only with val_acc available, skipping.\n"
          ]
        },
        {
          "name": "stderr",
          "output_type": "stream",
          "text": [
            "WARNING:tensorflow:Can save best model only with val_acc available, skipping.\n"
          ]
        },
        {
          "name": "stdout",
          "output_type": "stream",
          "text": [
            "235/235 [==============================] - 22s 92ms/step - loss: 0.0477 - accuracy: 0.9841 - val_loss: 0.3427 - val_accuracy: 0.8600\n",
            "Epoch 20/50\n",
            "235/235 [==============================] - ETA: 0s - loss: 0.0466 - accuracy: 0.9845WARNING:tensorflow:Can save best model only with val_acc available, skipping.\n"
          ]
        },
        {
          "name": "stderr",
          "output_type": "stream",
          "text": [
            "WARNING:tensorflow:Can save best model only with val_acc available, skipping.\n"
          ]
        },
        {
          "name": "stdout",
          "output_type": "stream",
          "text": [
            "235/235 [==============================] - 21s 89ms/step - loss: 0.0466 - accuracy: 0.9845 - val_loss: 0.1588 - val_accuracy: 0.9322\n",
            "Epoch 21/50\n",
            "235/235 [==============================] - ETA: 0s - loss: 0.0379 - accuracy: 0.9869WARNING:tensorflow:Can save best model only with val_acc available, skipping.\n"
          ]
        },
        {
          "name": "stderr",
          "output_type": "stream",
          "text": [
            "WARNING:tensorflow:Can save best model only with val_acc available, skipping.\n"
          ]
        },
        {
          "name": "stdout",
          "output_type": "stream",
          "text": [
            "235/235 [==============================] - 21s 88ms/step - loss: 0.0379 - accuracy: 0.9869 - val_loss: 0.1641 - val_accuracy: 0.9352\n",
            "Epoch 22/50\n",
            "235/235 [==============================] - ETA: 0s - loss: 0.0363 - accuracy: 0.9878WARNING:tensorflow:Can save best model only with val_acc available, skipping.\n"
          ]
        },
        {
          "name": "stderr",
          "output_type": "stream",
          "text": [
            "WARNING:tensorflow:Can save best model only with val_acc available, skipping.\n"
          ]
        },
        {
          "name": "stdout",
          "output_type": "stream",
          "text": [
            "235/235 [==============================] - 19s 82ms/step - loss: 0.0363 - accuracy: 0.9878 - val_loss: 0.2074 - val_accuracy: 0.9266\n",
            "Epoch 23/50\n",
            "235/235 [==============================] - ETA: 0s - loss: 0.0410 - accuracy: 0.9868WARNING:tensorflow:Can save best model only with val_acc available, skipping.\n"
          ]
        },
        {
          "name": "stderr",
          "output_type": "stream",
          "text": [
            "WARNING:tensorflow:Can save best model only with val_acc available, skipping.\n"
          ]
        },
        {
          "name": "stdout",
          "output_type": "stream",
          "text": [
            "235/235 [==============================] - 19s 81ms/step - loss: 0.0410 - accuracy: 0.9868 - val_loss: 0.2942 - val_accuracy: 0.8906\n",
            "Epoch 24/50\n",
            "235/235 [==============================] - ETA: 0s - loss: 0.0376 - accuracy: 0.9876WARNING:tensorflow:Can save best model only with val_acc available, skipping.\n"
          ]
        },
        {
          "name": "stderr",
          "output_type": "stream",
          "text": [
            "WARNING:tensorflow:Can save best model only with val_acc available, skipping.\n"
          ]
        },
        {
          "name": "stdout",
          "output_type": "stream",
          "text": [
            "235/235 [==============================] - 19s 80ms/step - loss: 0.0376 - accuracy: 0.9876 - val_loss: 0.3760 - val_accuracy: 0.8640\n",
            "Epoch 25/50\n",
            "235/235 [==============================] - ETA: 0s - loss: 0.0307 - accuracy: 0.9897WARNING:tensorflow:Can save best model only with val_acc available, skipping.\n"
          ]
        },
        {
          "name": "stderr",
          "output_type": "stream",
          "text": [
            "WARNING:tensorflow:Can save best model only with val_acc available, skipping.\n"
          ]
        },
        {
          "name": "stdout",
          "output_type": "stream",
          "text": [
            "235/235 [==============================] - 19s 81ms/step - loss: 0.0307 - accuracy: 0.9897 - val_loss: 0.9904 - val_accuracy: 0.7118\n",
            "Epoch 26/50\n",
            "235/235 [==============================] - ETA: 0s - loss: 0.0249 - accuracy: 0.9921WARNING:tensorflow:Can save best model only with val_acc available, skipping.\n"
          ]
        },
        {
          "name": "stderr",
          "output_type": "stream",
          "text": [
            "WARNING:tensorflow:Can save best model only with val_acc available, skipping.\n"
          ]
        },
        {
          "name": "stdout",
          "output_type": "stream",
          "text": [
            "235/235 [==============================] - 19s 81ms/step - loss: 0.0249 - accuracy: 0.9921 - val_loss: 0.9796 - val_accuracy: 0.6774\n",
            "Epoch 27/50\n",
            "235/235 [==============================] - ETA: 0s - loss: 0.0272 - accuracy: 0.9911WARNING:tensorflow:Can save best model only with val_acc available, skipping.\n"
          ]
        },
        {
          "name": "stderr",
          "output_type": "stream",
          "text": [
            "WARNING:tensorflow:Can save best model only with val_acc available, skipping.\n"
          ]
        },
        {
          "name": "stdout",
          "output_type": "stream",
          "text": [
            "235/235 [==============================] - 19s 82ms/step - loss: 0.0272 - accuracy: 0.9911 - val_loss: 0.3071 - val_accuracy: 0.9009\n",
            "Epoch 28/50\n",
            "235/235 [==============================] - ETA: 0s - loss: 0.0293 - accuracy: 0.9901WARNING:tensorflow:Can save best model only with val_acc available, skipping.\n"
          ]
        },
        {
          "name": "stderr",
          "output_type": "stream",
          "text": [
            "WARNING:tensorflow:Can save best model only with val_acc available, skipping.\n"
          ]
        },
        {
          "name": "stdout",
          "output_type": "stream",
          "text": [
            "235/235 [==============================] - 19s 81ms/step - loss: 0.0293 - accuracy: 0.9901 - val_loss: 0.2994 - val_accuracy: 0.8939\n",
            "Epoch 29/50\n",
            "235/235 [==============================] - ETA: 0s - loss: 0.0291 - accuracy: 0.9909WARNING:tensorflow:Can save best model only with val_acc available, skipping.\n"
          ]
        },
        {
          "name": "stderr",
          "output_type": "stream",
          "text": [
            "WARNING:tensorflow:Can save best model only with val_acc available, skipping.\n"
          ]
        },
        {
          "name": "stdout",
          "output_type": "stream",
          "text": [
            "235/235 [==============================] - 19s 81ms/step - loss: 0.0291 - accuracy: 0.9909 - val_loss: 0.2764 - val_accuracy: 0.8872\n",
            "Epoch 30/50\n",
            "235/235 [==============================] - ETA: 0s - loss: 0.0186 - accuracy: 0.9942WARNING:tensorflow:Can save best model only with val_acc available, skipping.\n"
          ]
        },
        {
          "name": "stderr",
          "output_type": "stream",
          "text": [
            "WARNING:tensorflow:Can save best model only with val_acc available, skipping.\n"
          ]
        },
        {
          "name": "stdout",
          "output_type": "stream",
          "text": [
            "235/235 [==============================] - 19s 82ms/step - loss: 0.0186 - accuracy: 0.9942 - val_loss: 0.0411 - val_accuracy: 0.9887\n",
            "Epoch 31/50\n",
            "235/235 [==============================] - ETA: 0s - loss: 0.0253 - accuracy: 0.9923WARNING:tensorflow:Can save best model only with val_acc available, skipping.\n"
          ]
        },
        {
          "name": "stderr",
          "output_type": "stream",
          "text": [
            "WARNING:tensorflow:Can save best model only with val_acc available, skipping.\n"
          ]
        },
        {
          "name": "stdout",
          "output_type": "stream",
          "text": [
            "235/235 [==============================] - 22s 93ms/step - loss: 0.0253 - accuracy: 0.9923 - val_loss: 0.5290 - val_accuracy: 0.8581\n",
            "Epoch 32/50\n",
            "235/235 [==============================] - ETA: 0s - loss: 0.0212 - accuracy: 0.9935WARNING:tensorflow:Can save best model only with val_acc available, skipping.\n"
          ]
        },
        {
          "name": "stderr",
          "output_type": "stream",
          "text": [
            "WARNING:tensorflow:Can save best model only with val_acc available, skipping.\n"
          ]
        },
        {
          "name": "stdout",
          "output_type": "stream",
          "text": [
            "235/235 [==============================] - 19s 83ms/step - loss: 0.0212 - accuracy: 0.9935 - val_loss: 0.4634 - val_accuracy: 0.8440\n",
            "Epoch 33/50\n",
            "235/235 [==============================] - ETA: 0s - loss: 0.0198 - accuracy: 0.9934WARNING:tensorflow:Can save best model only with val_acc available, skipping.\n"
          ]
        },
        {
          "name": "stderr",
          "output_type": "stream",
          "text": [
            "WARNING:tensorflow:Can save best model only with val_acc available, skipping.\n"
          ]
        },
        {
          "name": "stdout",
          "output_type": "stream",
          "text": [
            "235/235 [==============================] - 19s 80ms/step - loss: 0.0198 - accuracy: 0.9934 - val_loss: 0.6130 - val_accuracy: 0.8140\n",
            "Epoch 34/50\n",
            "235/235 [==============================] - ETA: 0s - loss: 0.0207 - accuracy: 0.9933WARNING:tensorflow:Can save best model only with val_acc available, skipping.\n"
          ]
        },
        {
          "name": "stderr",
          "output_type": "stream",
          "text": [
            "WARNING:tensorflow:Can save best model only with val_acc available, skipping.\n"
          ]
        },
        {
          "name": "stdout",
          "output_type": "stream",
          "text": [
            "235/235 [==============================] - 19s 79ms/step - loss: 0.0207 - accuracy: 0.9933 - val_loss: 0.6249 - val_accuracy: 0.8231\n",
            "Epoch 35/50\n",
            "235/235 [==============================] - ETA: 0s - loss: 0.0255 - accuracy: 0.9916WARNING:tensorflow:Can save best model only with val_acc available, skipping.\n"
          ]
        },
        {
          "name": "stderr",
          "output_type": "stream",
          "text": [
            "WARNING:tensorflow:Can save best model only with val_acc available, skipping.\n"
          ]
        },
        {
          "name": "stdout",
          "output_type": "stream",
          "text": [
            "235/235 [==============================] - 19s 80ms/step - loss: 0.0255 - accuracy: 0.9916 - val_loss: 0.5309 - val_accuracy: 0.8112\n",
            "Epoch 36/50\n",
            "235/235 [==============================] - ETA: 0s - loss: 0.0216 - accuracy: 0.9933WARNING:tensorflow:Can save best model only with val_acc available, skipping.\n"
          ]
        },
        {
          "name": "stderr",
          "output_type": "stream",
          "text": [
            "WARNING:tensorflow:Can save best model only with val_acc available, skipping.\n"
          ]
        },
        {
          "name": "stdout",
          "output_type": "stream",
          "text": [
            "235/235 [==============================] - 19s 80ms/step - loss: 0.0216 - accuracy: 0.9933 - val_loss: 0.4262 - val_accuracy: 0.8758\n",
            "Epoch 37/50\n",
            "235/235 [==============================] - ETA: 0s - loss: 0.0259 - accuracy: 0.9920WARNING:tensorflow:Can save best model only with val_acc available, skipping.\n"
          ]
        },
        {
          "name": "stderr",
          "output_type": "stream",
          "text": [
            "WARNING:tensorflow:Can save best model only with val_acc available, skipping.\n"
          ]
        },
        {
          "name": "stdout",
          "output_type": "stream",
          "text": [
            "235/235 [==============================] - 19s 79ms/step - loss: 0.0259 - accuracy: 0.9920 - val_loss: 0.1523 - val_accuracy: 0.9435\n",
            "Epoch 38/50\n",
            "235/235 [==============================] - ETA: 0s - loss: 0.0170 - accuracy: 0.9945WARNING:tensorflow:Can save best model only with val_acc available, skipping.\n"
          ]
        },
        {
          "name": "stderr",
          "output_type": "stream",
          "text": [
            "WARNING:tensorflow:Can save best model only with val_acc available, skipping.\n"
          ]
        },
        {
          "name": "stdout",
          "output_type": "stream",
          "text": [
            "235/235 [==============================] - 19s 80ms/step - loss: 0.0170 - accuracy: 0.9945 - val_loss: 0.0419 - val_accuracy: 0.9883\n",
            "Epoch 39/50\n",
            "235/235 [==============================] - ETA: 0s - loss: 0.0189 - accuracy: 0.9943WARNING:tensorflow:Can save best model only with val_acc available, skipping.\n"
          ]
        },
        {
          "name": "stderr",
          "output_type": "stream",
          "text": [
            "WARNING:tensorflow:Can save best model only with val_acc available, skipping.\n"
          ]
        },
        {
          "name": "stdout",
          "output_type": "stream",
          "text": [
            "235/235 [==============================] - 18s 78ms/step - loss: 0.0189 - accuracy: 0.9943 - val_loss: 1.0962 - val_accuracy: 0.7493\n",
            "Epoch 40/50\n",
            "235/235 [==============================] - ETA: 0s - loss: 0.0176 - accuracy: 0.9944WARNING:tensorflow:Can save best model only with val_acc available, skipping.\n"
          ]
        },
        {
          "name": "stderr",
          "output_type": "stream",
          "text": [
            "WARNING:tensorflow:Can save best model only with val_acc available, skipping.\n"
          ]
        },
        {
          "name": "stdout",
          "output_type": "stream",
          "text": [
            "235/235 [==============================] - 18s 79ms/step - loss: 0.0176 - accuracy: 0.9944 - val_loss: 0.4545 - val_accuracy: 0.8612\n",
            "Epoch 41/50\n",
            "235/235 [==============================] - ETA: 0s - loss: 0.0143 - accuracy: 0.9954WARNING:tensorflow:Can save best model only with val_acc available, skipping.\n"
          ]
        },
        {
          "name": "stderr",
          "output_type": "stream",
          "text": [
            "WARNING:tensorflow:Can save best model only with val_acc available, skipping.\n"
          ]
        },
        {
          "name": "stdout",
          "output_type": "stream",
          "text": [
            "235/235 [==============================] - 19s 80ms/step - loss: 0.0143 - accuracy: 0.9954 - val_loss: 0.1272 - val_accuracy: 0.9613\n",
            "Epoch 42/50\n",
            "235/235 [==============================] - ETA: 0s - loss: 0.0126 - accuracy: 0.9967WARNING:tensorflow:Can save best model only with val_acc available, skipping.\n"
          ]
        },
        {
          "name": "stderr",
          "output_type": "stream",
          "text": [
            "WARNING:tensorflow:Can save best model only with val_acc available, skipping.\n"
          ]
        },
        {
          "name": "stdout",
          "output_type": "stream",
          "text": [
            "235/235 [==============================] - 21s 88ms/step - loss: 0.0126 - accuracy: 0.9967 - val_loss: 0.1647 - val_accuracy: 0.9436\n",
            "Epoch 43/50\n",
            "235/235 [==============================] - ETA: 0s - loss: 0.0167 - accuracy: 0.9948WARNING:tensorflow:Can save best model only with val_acc available, skipping.\n"
          ]
        },
        {
          "name": "stderr",
          "output_type": "stream",
          "text": [
            "WARNING:tensorflow:Can save best model only with val_acc available, skipping.\n"
          ]
        },
        {
          "name": "stdout",
          "output_type": "stream",
          "text": [
            "235/235 [==============================] - 19s 82ms/step - loss: 0.0167 - accuracy: 0.9948 - val_loss: 0.0153 - val_accuracy: 0.9939\n",
            "Epoch 44/50\n",
            "235/235 [==============================] - ETA: 0s - loss: 0.0118 - accuracy: 0.9968WARNING:tensorflow:Can save best model only with val_acc available, skipping.\n"
          ]
        },
        {
          "name": "stderr",
          "output_type": "stream",
          "text": [
            "WARNING:tensorflow:Can save best model only with val_acc available, skipping.\n"
          ]
        },
        {
          "name": "stdout",
          "output_type": "stream",
          "text": [
            "235/235 [==============================] - 19s 80ms/step - loss: 0.0118 - accuracy: 0.9968 - val_loss: 0.9231 - val_accuracy: 0.7895\n",
            "Epoch 45/50\n",
            "235/235 [==============================] - ETA: 0s - loss: 0.0196 - accuracy: 0.9935WARNING:tensorflow:Can save best model only with val_acc available, skipping.\n"
          ]
        },
        {
          "name": "stderr",
          "output_type": "stream",
          "text": [
            "WARNING:tensorflow:Can save best model only with val_acc available, skipping.\n"
          ]
        },
        {
          "name": "stdout",
          "output_type": "stream",
          "text": [
            "235/235 [==============================] - 19s 80ms/step - loss: 0.0196 - accuracy: 0.9935 - val_loss: 0.0521 - val_accuracy: 0.9828\n",
            "Epoch 46/50\n",
            "235/235 [==============================] - ETA: 0s - loss: 0.0177 - accuracy: 0.9948WARNING:tensorflow:Can save best model only with val_acc available, skipping.\n"
          ]
        },
        {
          "name": "stderr",
          "output_type": "stream",
          "text": [
            "WARNING:tensorflow:Can save best model only with val_acc available, skipping.\n"
          ]
        },
        {
          "name": "stdout",
          "output_type": "stream",
          "text": [
            "235/235 [==============================] - 19s 80ms/step - loss: 0.0177 - accuracy: 0.9948 - val_loss: 0.1695 - val_accuracy: 0.9460\n",
            "Epoch 47/50\n",
            "235/235 [==============================] - ETA: 0s - loss: 0.0102 - accuracy: 0.9966WARNING:tensorflow:Can save best model only with val_acc available, skipping.\n"
          ]
        },
        {
          "name": "stderr",
          "output_type": "stream",
          "text": [
            "WARNING:tensorflow:Can save best model only with val_acc available, skipping.\n"
          ]
        },
        {
          "name": "stdout",
          "output_type": "stream",
          "text": [
            "235/235 [==============================] - 19s 80ms/step - loss: 0.0102 - accuracy: 0.9966 - val_loss: 0.0143 - val_accuracy: 0.9957\n",
            "Epoch 48/50\n",
            "235/235 [==============================] - ETA: 0s - loss: 0.0142 - accuracy: 0.9961WARNING:tensorflow:Can save best model only with val_acc available, skipping.\n"
          ]
        },
        {
          "name": "stderr",
          "output_type": "stream",
          "text": [
            "WARNING:tensorflow:Can save best model only with val_acc available, skipping.\n"
          ]
        },
        {
          "name": "stdout",
          "output_type": "stream",
          "text": [
            "235/235 [==============================] - 19s 79ms/step - loss: 0.0142 - accuracy: 0.9961 - val_loss: 0.2501 - val_accuracy: 0.9178\n",
            "Epoch 49/50\n",
            "235/235 [==============================] - ETA: 0s - loss: 0.0221 - accuracy: 0.9933WARNING:tensorflow:Can save best model only with val_acc available, skipping.\n"
          ]
        },
        {
          "name": "stderr",
          "output_type": "stream",
          "text": [
            "WARNING:tensorflow:Can save best model only with val_acc available, skipping.\n"
          ]
        },
        {
          "name": "stdout",
          "output_type": "stream",
          "text": [
            "235/235 [==============================] - 19s 81ms/step - loss: 0.0221 - accuracy: 0.9933 - val_loss: 0.3417 - val_accuracy: 0.9032\n",
            "Epoch 50/50\n",
            "235/235 [==============================] - ETA: 0s - loss: 0.0130 - accuracy: 0.9958WARNING:tensorflow:Can save best model only with val_acc available, skipping.\n"
          ]
        },
        {
          "name": "stderr",
          "output_type": "stream",
          "text": [
            "WARNING:tensorflow:Can save best model only with val_acc available, skipping.\n"
          ]
        },
        {
          "name": "stdout",
          "output_type": "stream",
          "text": [
            "235/235 [==============================] - 19s 80ms/step - loss: 0.0130 - accuracy: 0.9958 - val_loss: 0.0956 - val_accuracy: 0.9649\n",
            "Duration: 0:16:43.482291\n"
          ]
        }
      ],
      "source": [
        "from datetime import datetime\n",
        "\n",
        "start_time = datetime.now()\n",
        "\n",
        "history = model.fit(x_train,\n",
        "                    y_train,\n",
        "                    validation_split=0.2,\n",
        "                    batch_size = 128,\n",
        "                    epochs = 50,\n",
        "                    shuffle=True,\n",
        "                    callbacks=[callback])\n",
        "\n",
        "end_time = datetime.now()\n",
        "\n",
        "print('Duration: {}'.format(end_time - start_time))"
      ]
    },
    {
      "cell_type": "markdown",
      "metadata": {
        "id": "nfIapcND3kGk"
      },
      "source": [
        "# Step 8: Model Evaluation"
      ]
    },
    {
      "cell_type": "code",
      "execution_count": 23,
      "metadata": {
        "colab": {
          "base_uri": "https://localhost:8080/",
          "height": 295
        },
        "id": "qieCeDDGnEh3",
        "outputId": "52fdd55f-ea6b-41f6-bad6-874ca1236128"
      },
      "outputs": [
        {
          "data": {
            "image/png": "[encoded data removed]",
            "text/plain": [
              "<Figure size 640x480 with 1 Axes>"
            ]
          },
          "metadata": {},
          "output_type": "display_data"
        }
      ],
      "source": [
        "#plot of accuracy vs epoch\n",
        "\n",
        "plt.plot(history.history['accuracy'])\n",
        "\n",
        "plt.plot(history.history['val_accuracy'])\n",
        "\n",
        "plt.title('model accuracy')\n",
        "\n",
        "plt.ylabel('accuracy')\n",
        "\n",
        "plt.xlabel('epoch')\n",
        "\n",
        "plt.legend(['train', 'val'], loc='upper left')\n",
        "\n",
        "plt.show()"
      ]
    },
    {
      "cell_type": "code",
      "execution_count": 24,
      "metadata": {
        "colab": {
          "base_uri": "https://localhost:8080/",
          "height": 295
        },
        "id": "8gK_9yQotuky",
        "outputId": "28e090aa-f2da-439f-b06a-daf0aaefaa15"
      },
      "outputs": [
        {
          "data": {
            "image/png": "[encoded data removed]",
            "text/plain": [
              "<Figure size 640x480 with 1 Axes>"
            ]
          },
          "metadata": {},
          "output_type": "display_data"
        }
      ],
      "source": [
        "#plot of loss vs epoch\n",
        "\n",
        "plt.plot(history.history['loss'])\n",
        "\n",
        "plt.plot(history.history['val_loss'])\n",
        "\n",
        "plt.title('model loss')\n",
        "\n",
        "plt.ylabel('loss')\n",
        "\n",
        "plt.xlabel('epoch')\n",
        "\n",
        "plt.legend(['train', 'val'], loc='upper left')\n",
        "\n",
        "plt.show()"
      ]
    },
    {
      "cell_type": "code",
      "execution_count": 25,
      "metadata": {
        "id": "w9uqTVqftz1w"
      },
      "outputs": [],
      "source": [
        "model.load_weights('best_model.h5')"
      ]
    },
    {
      "cell_type": "code",
      "execution_count": 26,
      "metadata": {
        "colab": {
          "base_uri": "https://localhost:8080/"
        },
        "id": "lzqOpvxMt2Xb",
        "outputId": "5fdc5e94-cac2-41ba-d569-3a230c4eea63"
      },
      "outputs": [
        {
          "name": "stdout",
          "output_type": "stream",
          "text": [
            "63/63 - 1s - loss: 0.1923 - accuracy: 0.9561 - 1s/epoch - 17ms/step\n"
          ]
        }
      ],
      "source": [
        "x_test=np.array(x_test).reshape(-1,28,28,3)\n",
        "\n",
        "loss, acc = model.evaluate(x_test, y_test, verbose=2)"
      ]
    },
    {
      "cell_type": "code",
      "execution_count": 27,
      "metadata": {
        "id": "KHh_xm9e0kgT"
      },
      "outputs": [
        {
          "name": "stdout",
          "output_type": "stream",
          "text": [
            "63/63 [==============================] - 1s 13ms/step\n"
          ]
        }
      ],
      "source": [
        "from sklearn.metrics import confusion_matrix\n",
        "\n",
        "y_pred = model.predict(x_test)\n",
        "y_pred = np.argmax(y_pred, axis=1)\n",
        "\n",
        "conf_mat = confusion_matrix(y_test, y_pred)\n"
      ]
    },
    {
      "cell_type": "code",
      "execution_count": 28,
      "metadata": {
        "colab": {
          "base_uri": "https://localhost:8080/"
        },
        "id": "z4ahpCr92gEL",
        "outputId": "a640666c-359e-4c98-9c7d-17be2c7b5f8a"
      },
      "outputs": [
        {
          "name": "stdout",
          "output_type": "stream",
          "text": [
            "[[  60    2    1    1    1    0    1]\n",
            " [   0   93    2    0    1    0    0]\n",
            " [   0    0  220    0   14    0    0]\n",
            " [   0    1    0   21    0    0    0]\n",
            " [   1    6   17    0 1303    0    7]\n",
            " [   0    0    1    0    0   20    0]\n",
            " [   0    2    7    0   22    1  198]]\n"
          ]
        }
      ],
      "source": [
        "print(conf_mat)"
      ]
    },
    {
      "cell_type": "code",
      "execution_count": 29,
      "metadata": {
        "colab": {
          "base_uri": "https://localhost:8080/",
          "height": 663
        },
        "id": "vYbAXbHR-JZC",
        "outputId": "5f74222e-1ee9-4796-e147-318824c57961"
      },
      "outputs": [
        {
          "data": {
            "image/png": "[encoded data removed]",
            "text/plain": [
              "<Figure size 1000x1000 with 2 Axes>"
            ]
          },
          "metadata": {},
          "output_type": "display_data"
        }
      ],
      "source": [
        "import seaborn as sns\n",
        "import matplotlib.pyplot as plt\n",
        "fig, ax = plt.subplots(figsize=(10,10)) \n",
        "\n",
        "\n",
        "ax = sns.heatmap(conf_mat, annot=True, cmap='Blues', linewidths=.9, ax=ax)\n",
        "\n",
        "ax.set_title('Confusion Matrix with labels\\n\\n');\n",
        "\n",
        "ax.set_xlabel('\\nPredicted Values')\n",
        "\n",
        "ax.set_ylabel('Actual Values ');\n",
        "\n",
        "ax.xaxis.set_ticklabels(['0','1','2','3','4','5','6'])\n",
        "\n",
        "ax.yaxis.set_ticklabels(['0','1','2','3','4','5','6'])\n",
        "\n",
        "plt.show()"
      ]
    },
    {
      "cell_type": "code",
      "execution_count": 30,
      "metadata": {
        "colab": {
          "base_uri": "https://localhost:8080/",
          "height": 663
        },
        "id": "LSI3BUvg2o4R",
        "outputId": "e5b749b9-f01f-49ab-ef93-f754e48bce07"
      },
      "outputs": [
        {
          "data": {
            "image/png": "[encoded data removed]",
            "text/plain": [
              "<Figure size 1000x1000 with 2 Axes>"
            ]
          },
          "metadata": {},
          "output_type": "display_data"
        }
      ],
      "source": [
        "import seaborn as sns\n",
        "import matplotlib.pyplot as plt\n",
        "fig, ax = plt.subplots(figsize=(10,10)) \n",
        "\n",
        "\n",
        "ax = sns.heatmap(conf_mat/np.sum(conf_mat), annot=True, fmt='.2%', cmap='Blues', linewidths=.9, ax=ax)\n",
        "\n",
        "ax.set_title('Confusion Matrix with labels\\n\\n');\n",
        "\n",
        "ax.set_xlabel('\\nPredicted Values')\n",
        "\n",
        "ax.set_ylabel('Actual Values ');\n",
        "\n",
        "ax.xaxis.set_ticklabels(['0','1','2','3','4','5','6'])\n",
        "\n",
        "ax.yaxis.set_ticklabels(['0','1','2','3','4','5','6'])\n",
        "\n",
        "plt.show()"
      ]
    },
    {
      "cell_type": "code",
      "execution_count": 32,
      "metadata": {
        "colab": {
          "base_uri": "https://localhost:8080/"
        },
        "id": "tBWa4PFe8qCQ",
        "outputId": "bbda8134-01c6-41a7-f042-ea382666cce9"
      },
      "outputs": [
        {
          "name": "stdout",
          "output_type": "stream",
          "text": [
            "1/1 [==============================] - 0s 191ms/step\n",
            "[3.2271695e-05 2.5280108e-04 1.1521416e-03 8.5902306e-05 9.9383920e-01\n",
            " 5.5271023e-05 4.5823823e-03]\n",
            "('nv', ' melanocytic nevi')\n"
          ]
        }
      ],
      "source": [
        "#https://pillow.readthedocs.io/en/stable/\n",
        "\n",
        "import PIL\n",
        "\n",
        "image=PIL.Image.open('test.jpg')\n",
        "\n",
        "image=image.resize((28,28))\n",
        "\n",
        "img=x_test[1]\n",
        "\n",
        "img=np.array(image).reshape(-1,28,28,3)\n",
        "\n",
        "result=model.predict(img)\n",
        "\n",
        "print(result[0])\n",
        "\n",
        "result=result.tolist()\n",
        "\n",
        "max_prob=max(result[0])\n",
        "\n",
        "class_ind=result[0].index(max_prob)\n",
        "\n",
        "print(classes[class_ind])"
      ]
    }
  ],
  "metadata": {
    "accelerator": "GPU",
    "colab": {
      "collapsed_sections": [],
      "include_colab_link": true,
      "name": "Skin_Cancer_Detection.ipynb",
      "provenance": []
    },
    "kernelspec": {
      "display_name": "Python 3",
      "language": "python",
      "name": "python3"
    },
    "language_info": {
      "codemirror_mode": {
        "name": "ipython",
        "version": 3
      },
      "file_extension": ".py",
      "mimetype": "text/x-python",
      "name": "python",
      "nbconvert_exporter": "python",
      "pygments_lexer": "ipython3",
      "version": "3.11.6"
    }
  },
  "nbformat": 4,
  "nbformat_minor": 0
}
